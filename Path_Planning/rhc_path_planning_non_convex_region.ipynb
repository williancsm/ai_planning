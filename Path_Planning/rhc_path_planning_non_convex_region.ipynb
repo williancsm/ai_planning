{
  "cells": [
    {
      "cell_type": "markdown",
      "metadata": {
        "id": "N4kz5t-Ekcsq"
      },
      "source": [
        "# Configuration"
      ]
    },
    {
      "cell_type": "code",
      "execution_count": 1,
      "metadata": {
        "colab": {
          "base_uri": "https://localhost:8080/"
        },
        "id": "Wy-RROMxkH12",
        "outputId": "41fc14e2-d66d-4ca3-b344-f05a84806f14"
      },
      "outputs": [
        {
          "output_type": "stream",
          "name": "stdout",
          "text": [
            "Looking in indexes: https://pypi.gurobi.com, https://us-python.pkg.dev/colab-wheels/public/simple/\n",
            "Collecting gurobipy\n",
            "  Downloading gurobipy-10.0.0-cp38-cp38-manylinux2014_x86_64.whl (12.8 MB)\n",
            "\u001b[K     |████████████████████████████████| 12.8 MB 4.2 MB/s \n",
            "\u001b[?25hInstalling collected packages: gurobipy\n",
            "Successfully installed gurobipy-10.0.0\n"
          ]
        }
      ],
      "source": [
        "#Install gurobipy\n",
        "!python3 -m pip install -i https://pypi.gurobi.com gurobipy"
      ]
    },
    {
      "cell_type": "markdown",
      "metadata": {
        "id": "ab6eTj13koJF"
      },
      "source": [
        "# Path Planning Non Convex Region"
      ]
    },
    {
      "cell_type": "code",
      "source": [
        "import numpy as np\n",
        "\n",
        "import gurobipy as gp\n",
        "from gurobipy import GRB\n",
        "\n",
        "import matplotlib.pyplot as plt\n",
        "import matplotlib.patches as patches"
      ],
      "metadata": {
        "id": "eh_5NlmznnSo"
      },
      "execution_count": 2,
      "outputs": []
    },
    {
      "cell_type": "code",
      "source": [
        "# -------------------\n",
        "# CONSTANTS\n",
        "# -------------------\n",
        "# Dynamimc\n",
        "DELTA_T = 1.0 \n",
        "MASS    = 2.0\n",
        "GOAL    = {'x'   : 8.0, \n",
        "           'y'   : 8.0,\n",
        "           'V_x' : 0.0,\n",
        "           'V_y' : 0.0}\n",
        "\n",
        "START    = {'x'  : 1.5, \n",
        "           'y'   : 1.5,\n",
        "           'V_x' : 0.0,\n",
        "           'V_y' : 0.0}\n",
        "\n",
        "BIG_NUMBER = 1000.0\n",
        "\n",
        "# Model\n",
        "A = np.array([[1.,      0.,      DELTA_T, 0.     ], \n",
        "              [0.,      1.,      0.,      DELTA_T],\n",
        "              [0.,      0.,      1.,      0.     ],\n",
        "              [0.,      0.,      0.,      1.     ]])\n",
        "\n",
        "\n",
        "B = np.array([[0.5 * (DELTA_T ** 2) / MASS, 0.                         ], \n",
        "              [0.                         , 0.5 * (DELTA_T ** 2) / MASS],\n",
        "              [DELTA_T / MASS             , 0.                         ],\n",
        "              [0.                         , DELTA_T / MASS             ]])\n",
        "\n",
        "# Wayponts\n",
        "INIT      = 0\n",
        "END       = 3\n",
        "TIMES     = (END - INIT) + 1\n",
        "VAR_STATE = 4\n",
        "VAR_INPUT = 2\n",
        "\n",
        "# Region\n",
        "NON_CONVEX_REGION = np.array([[\n",
        "          # a_1   a_2    b\n",
        "          [0.0 ,  1.0,   3.0],\n",
        "          [1.0 ,  0.0,   3.5],\n",
        "          [0.0 , -1.0,  -2.0],\n",
        "          [-1.0,  0.0,  -2.0]],\n",
        "        [\n",
        "          [0.0 ,   1.0,   7.0],\n",
        "          [1.0 ,   0.0,   7.0],\n",
        "          [0.0 ,  -1.0,  -3.0],\n",
        "          [-1.0,  0.0,   -5.0]]\n",
        "          ])\n",
        "\n",
        "CONVEX_REGION = np.array([[\n",
        "          # a_1  a_2   b\n",
        "          [1.0,  -9.0, -8.0],\n",
        "          [-9.0, 1.0,  -8.0],\n",
        "          [1.0,  7.0,  72.0],\n",
        "          [7.0,  1.0,  72.0]]\n",
        "          ])\n",
        "\n",
        "\n",
        "NON_CONVEX_NUMBER_OF_FACES = NON_CONVEX_REGION.shape[1]\n",
        "NON_CONVEX_NUMBER_OF_REGIONS = NON_CONVEX_REGION.shape[0]\n",
        "CONVEX_NUMBER_OF_FACES = CONVEX_REGION.shape[1]\n",
        "CONVEX_NUMBER_OF_REGIONS = CONVEX_REGION.shape[0]\n",
        "\n",
        "# -------------------\n",
        "# FUNCTIONS\n",
        "# -------------------\n",
        "# x_k+1 = A * x_k + B * u_k + noise\n",
        "def model_simulation(x_init, u, std):\n",
        "  x     = np.zeros((VAR_STATE, TIMES))\n",
        "  noise = np.random.normal(0., std, size=(VAR_STATE, TIMES - 1))\n",
        "  input = np.array(u)\n",
        "\n",
        "  x[:, 0]   = x_init\n",
        "  \n",
        "  for i in range(TIMES - 1):\n",
        "    x[:, i + 1] = np.dot(A, x[:, i]) + np.dot(B, input[:, i]) + noise[:, i]\n",
        "\n",
        "  return x"
      ],
      "metadata": {
        "id": "sLu_o5NgZNgs"
      },
      "execution_count": 3,
      "outputs": []
    },
    {
      "cell_type": "code",
      "execution_count": 4,
      "metadata": {
        "id": "BG7y4eySCCyB",
        "colab": {
          "base_uri": "https://localhost:8080/"
        },
        "outputId": "c307f12e-71b9-4d83-aacd-bd8cdecf7814"
      },
      "outputs": [
        {
          "output_type": "stream",
          "name": "stdout",
          "text": [
            "Restricted license - for non-production use only - expires 2024-10-28\n"
          ]
        }
      ],
      "source": [
        "mdl = gp.Model('LPCLimitado')\n",
        "\n",
        "# Supress output\n",
        "mdl.Params.LogToConsole = 0\n",
        "# ??\n",
        "mdl.Params.DualReductions = 0\n",
        "\n",
        "# -------------------\n",
        "# VARS\n",
        "# -------------------\n",
        "# Variáveis do modelo\n",
        "x = {} \n",
        "y = {}\n",
        "V_x = {}\n",
        "V_y = {}\n",
        "F_x = {}\n",
        "F_y = {}\n",
        "z = {}\n",
        "\n",
        "for t in range(TIMES):\n",
        "  x[t]   = mdl.addVar(name='VAR_x[%i]' % t)\n",
        "  y[t]   = mdl.addVar(name='VAR_y[%i]' % t)\n",
        "  V_x[t] = mdl.addVar(name='VAR_V_x[%i]' % t, lb=-1.0, ub=1.0)\n",
        "  V_y[t] = mdl.addVar(name='VAR_V_y[%i]' % t, lb=-1.0, ub=1.0)\n",
        "\n",
        "  for r in range(NON_CONVEX_NUMBER_OF_REGIONS):\n",
        "    for f in range(NON_CONVEX_NUMBER_OF_FACES):\n",
        "      z[r, f, t] = mdl.addVar(vtype=GRB.BINARY, name='VAR_z[%i, %i, %i]' % (r, f, t))\n",
        "for t in range(TIMES - 1):\n",
        "  F_x[t] = mdl.addVar(name='VAR_F_x[%i]' % t, lb=-1.0, ub=1.0)\n",
        "  F_y[t] = mdl.addVar(name='VAR_F_y[%i]' % t, lb=-1.0, ub=1.0)\n",
        "\n",
        "# -------------------\n",
        "# CONSTRAINTS\n",
        "# -------------------\n",
        "# Restrições de dinâmica do veículo\n",
        "for t in range(TIMES - 1):\n",
        "  mdl.addConstr(\n",
        "    x[t + 1] == x[t] + V_x[t] * DELTA_T + 0.5 * (DELTA_T ** 2) * F_x[t] / MASS, \n",
        "    name ='CONSTR_x[%i]' % t\n",
        "  )\n",
        "  mdl.addConstr(\n",
        "    y[t + 1] == y[t] + V_y[t] * DELTA_T + 0.5 * (DELTA_T ** 2) * F_y[t] / MASS, \n",
        "    name ='CONSTR_y[%i]' % t\n",
        "  )\n",
        "  mdl.addConstr(\n",
        "    V_x[t + 1] == V_x[t] + DELTA_T * F_x[t] / MASS, \n",
        "    name ='CONSTR_V_x[%i]' % t\n",
        "  )\n",
        "  mdl.addConstr(\n",
        "    V_y[t + 1] == V_y[t] + DELTA_T * F_y[t] / MASS, \n",
        "    name ='CONSTR_V_y[%i]' % t\n",
        "  )\n",
        "\n",
        "# Restrição de posição inicial\n",
        "initial_x_constr   = mdl.addConstr(x[INIT]   == START['x'],   name='CONSTR_x_0')\n",
        "initial_y_constr   = mdl.addConstr(y[INIT]   == START['y'],   name='CONSTR_y_0')\n",
        "initial_V_x_constr = mdl.addConstr(V_x[INIT] == START['V_x'], name='CONSTR_V_x_0')\n",
        "initial_V_y_constr = mdl.addConstr(V_y[INIT] == START['V_y'], name='CONSTR_V_y_0')\n",
        "\n",
        "for t in range(TIMES):\n",
        "# Convex Region\n",
        "  for r in range(CONVEX_NUMBER_OF_REGIONS):\n",
        "    for f in range(CONVEX_NUMBER_OF_FACES):\n",
        "      # a_1 * x + a_2 * y <= b\n",
        "      mdl.addConstr(\n",
        "        CONVEX_REGION[r, f, 0] * x[t] + CONVEX_REGION[r, f, 1] * y[t] <= CONVEX_REGION[r, f, 2]\n",
        "      )\n",
        "\n",
        "# Non Convex Region\n",
        "  for r in range(NON_CONVEX_NUMBER_OF_REGIONS):\n",
        "    mdl.addConstr(\n",
        "        1 - sum(z[r, f, t] for f in range(NON_CONVEX_NUMBER_OF_FACES)) <= 0\n",
        "    )\n",
        "    for f in range(NON_CONVEX_NUMBER_OF_FACES):\n",
        "      # b - (a_1 * x + a_2 * y) <= BigM(1 - z) \n",
        "      mdl.addConstr(\n",
        "        NON_CONVEX_REGION[r, f, 2] - (NON_CONVEX_REGION[r, f, 0] * x[t] + NON_CONVEX_REGION[r, f, 1] * y[t]) <= BIG_NUMBER * (1 - z[r, f, t]) \n",
        "      )\n",
        "    \n",
        "# Remover Saltos\n",
        "for t in range(TIMES - 1):\n",
        "  for r in range(NON_CONVEX_NUMBER_OF_REGIONS):\n",
        "    mdl.addConstr(\n",
        "        - sum(z[r, f, t] * z[r, f, t + 1] for f in range(NON_CONVEX_NUMBER_OF_FACES)) <= -1\n",
        "    )\n",
        "\n",
        "\n",
        "mdl.setObjective(\n",
        "  #gp.quicksum(\n",
        "  #  [F_x[t] ** 2.0 + F_y[t] ** 2.0 for t in range(TIMES)]\n",
        "  #)\n",
        "  (x[END] - GOAL['x']) ** 2.0 + (y[END] - GOAL['y']) ** 2.0 + (V_x[END] - GOAL['V_x']) ** 2.0 + (V_y[END] - GOAL['V_y']) ** 2.0 \n",
        ")\n"
      ]
    },
    {
      "cell_type": "code",
      "source": [
        "# Distância mínima do destino\n",
        "EPSILON = 1E-5\n",
        "DATA_SIZE = 100\n",
        "STD_DEVIATION = 0.0\n",
        "\n",
        "# Parâmetros RHC\n",
        "current_state = START.copy()\n",
        "\n",
        "number_of_it = 0\n",
        "\n",
        "state_data_opt = np.zeros((VAR_STATE, DATA_SIZE))\n",
        "state_data_model = np.zeros((VAR_STATE, DATA_SIZE))\n",
        "\n",
        "error = float('inf')\n",
        "\n",
        "while(error > EPSILON):\n",
        "\n",
        "  # Restrição de posição inicial\n",
        "  initial_x_constr.rhs   = current_state['x']\n",
        "  initial_y_constr.rhs   = current_state['y']\n",
        "  initial_V_x_constr.rhs = current_state['V_x']\n",
        "  initial_V_y_constr.rhs = current_state['V_y']\n",
        "\n",
        "  mdl.update()\n",
        "\n",
        "  # -------------------\n",
        "  # OPTIMIZE\n",
        "  # -------------------\n",
        "  mdl.optimize()\n",
        "\n",
        "  print('')\n",
        "  print('Optimization complete %d.' % number_of_it)\n",
        "  if mdl.SolCount == 0:\n",
        "    print('No solution found, optimization %d status = %d' % (number_of_it, mdl.Status))\n",
        "    break\n",
        "  else:\n",
        "    print('Solution found!')\n",
        "    \n",
        "    error = mdl.ObjVal\n",
        "\n",
        "    state_model = model_simulation([x[INIT].x, y[INIT].x, V_x[INIT].x, V_y[INIT].x], \n",
        "                                   [[F_x[i].x for i in range(TIMES - 1)], \n",
        "                                   [F_y[i].x for i in range(TIMES - 1)]], \n",
        "                                   STD_DEVIATION)\n",
        "\n",
        "    # Get current state\n",
        "    current_state['x']   = state_model[0, END]\n",
        "    current_state['y']   = state_model[1, END]\n",
        "    current_state['V_x'] = state_model[2, END]\n",
        "    current_state['V_y'] = state_model[3, END]\n",
        "\n",
        "    # Store data\n",
        "    for i in range(TIMES):\n",
        "      state_data_opt[0, number_of_it * TIMES + i]   = x[i].x\n",
        "      state_data_opt[1, number_of_it * TIMES + i]   = y[i].x\n",
        "      state_data_model[0, number_of_it * TIMES + i] = state_model[0, i]\n",
        "      state_data_model[1, number_of_it * TIMES + i] = state_model[1, i]\n",
        "\n",
        "    # -------------------\n",
        "    # PLOT\n",
        "    # -------------------\n",
        "\n",
        "    fig = plt.figure()\n",
        "    ax = fig.gca()\n",
        "\n",
        "    path = [[\n",
        "          # Objeto 1\n",
        "          [2.,   2.],\n",
        "          [2.,   3.],\n",
        "          [3.5,  3.],\n",
        "          [3.5,  2.]\n",
        "        ],\n",
        "        [\n",
        "          # Objeto 2\n",
        "          [5.,   3.],\n",
        "          [5.,   7.],\n",
        "          [7.,   7.],\n",
        "          [7.,   3.]\n",
        "        ],\n",
        "        [\n",
        "          # Região\n",
        "          [1.,   1.],\n",
        "          [2.,  10.],\n",
        "          [9.,   9.],\n",
        "          [10.,  2.]]]\n",
        "    \n",
        "    ax.add_patch(patches.Polygon(path[0], facecolor='blue', alpha=.5))\n",
        "    ax.add_patch(patches.Polygon(path[1], facecolor='blue', alpha=.5))\n",
        "    ax.add_patch(patches.Polygon(path[2], facecolor='orange', alpha=.2))\n",
        "\n",
        "\n",
        "    plt.plot(\n",
        "      state_data_opt[0, INIT:number_of_it * TIMES + TIMES],\n",
        "      state_data_opt[1, INIT:number_of_it * TIMES + TIMES],\n",
        "      '-ro'\n",
        "    ) \n",
        "    plt.plot(\n",
        "      state_data_model[0, INIT:number_of_it * TIMES + TIMES],\n",
        "      state_data_model[1, INIT:number_of_it * TIMES + TIMES],\n",
        "      '-g^'\n",
        "    ) \n",
        "\n",
        "    plt.plot(GOAL['x'],  GOAL['y'],'bo') \n",
        "    plt.plot(START['x'], START['y'],'bo') \n",
        "    plt.show()\n",
        "\n",
        "    number_of_it += 1"
      ],
      "metadata": {
        "colab": {
          "base_uri": "https://localhost:8080/",
          "height": 1000
        },
        "id": "83Y7VjxFNFpr",
        "outputId": "27429395-4631-4abf-a4ff-5c671f19f18e"
      },
      "execution_count": 7,
      "outputs": [
        {
          "output_type": "stream",
          "name": "stdout",
          "text": [
            "\n",
            "Optimization complete 0.\n",
            "Solution found!\n"
          ]
        },
        {
          "output_type": "display_data",
          "data": {
            "text/plain": [
              "<Figure size 432x288 with 1 Axes>"
            ],
            "image/png": "[encoded data removed]"
          },
          "metadata": {
            "needs_background": "light"
          }
        },
        {
          "output_type": "stream",
          "name": "stdout",
          "text": [
            "\n",
            "Optimization complete 1.\n",
            "Solution found!\n"
          ]
        },
        {
          "output_type": "display_data",
          "data": {
            "text/plain": [
              "<Figure size 432x288 with 1 Axes>"
            ],
            "image/png": "[encoded data removed]"
          },
          "metadata": {
            "needs_background": "light"
          }
        },
        {
          "output_type": "stream",
          "name": "stdout",
          "text": [
            "\n",
            "Optimization complete 2.\n",
            "Solution found!\n"
          ]
        },
        {
          "output_type": "display_data",
          "data": {
            "text/plain": [
              "<Figure size 432x288 with 1 Axes>"
            ],
            "image/png": "[encoded data removed]"
          },
          "metadata": {
            "needs_background": "light"
          }
        },
        {
          "output_type": "stream",
          "name": "stdout",
          "text": [
            "\n",
            "Optimization complete 3.\n",
            "Solution found!\n"
          ]
        },
        {
          "output_type": "display_data",
          "data": {
            "text/plain": [
              "<Figure size 432x288 with 1 Axes>"
            ],
            "image/png": "[encoded data removed]"
          },
          "metadata": {
            "needs_background": "light"
          }
        },
        {
          "output_type": "stream",
          "name": "stdout",
          "text": [
            "\n",
            "Optimization complete 4.\n",
            "Solution found!\n"
          ]
        },
        {
          "output_type": "display_data",
          "data": {
            "text/plain": [
              "<Figure size 432x288 with 1 Axes>"
            ],
            "image/png": "[encoded data removed]"
          },
          "metadata": {
            "needs_background": "light"
          }
        }
      ]
    }
  ],
  "metadata": {
    "colab": {
      "provenance": []
    },
    "kernelspec": {
      "display_name": "Python 3",
      "name": "python3"
    },
    "language_info": {
      "name": "python"
    }
  },
  "nbformat": 4,
  "nbformat_minor": 0
}